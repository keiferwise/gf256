{
 "cells": [
  {
   "cell_type": "code",
   "execution_count": null,
   "metadata": {},
   "outputs": [],
   "source": [
    "def reduce_quiet(y):\n",
    "    mx_bin = 0b100011011\n",
    "    max_width = len(bin(y))\n",
    "    while y > 0b11111111:\n",
    "        curr_len = len(bin(y))\n",
    "        temp_mx = bin(mx_bin).ljust(curr_len,'0')\n",
    "        temp_mx = int(temp_mx,2)\n",
    "        y = y ^ temp_mx\n",
    "    return y"
   ]
  },
  {
   "cell_type": "code",
   "execution_count": null,
   "metadata": {},
   "outputs": [],
   "source": [
    "def reduce(y):\n",
    "    mx_bin = 0b100011011\n",
    "    max_width = len(bin(y))\n",
    "    while y > 0b11111111:\n",
    "        print(bin(y)[2:].rjust(max_width,' '))\n",
    "        curr_len = len(bin(y))\n",
    "        temp_mx = bin(mx_bin).ljust(curr_len,'0')\n",
    "        temp_mx = int(temp_mx,2)\n",
    "        y = y ^ temp_mx\n",
    "        print(bin(temp_mx)[2:].rjust(max_width,' '))\n",
    "        print('-'.rjust(max_width,'-'))\n",
    "    print(bin(y)[2:].rjust(max_width,' '))\n",
    "    return y"
   ]
  },
  {
   "cell_type": "code",
   "execution_count": null,
   "metadata": {},
   "outputs": [],
   "source": [
    "def gf_div(n,d):\n",
    "    \n",
    "    return 0"
   ]
  },
  {
   "cell_type": "code",
   "execution_count": null,
   "metadata": {},
   "outputs": [],
   "source": [
    "def gf_eea(a,b):\n",
    "    \n",
    "    return 0\n",
    "\n",
    "'''\n",
    "#this is the extened euclidian algo used here to find the inverse\n",
    "def EEA_fast(N,a):\n",
    "    #initialize 2 rows, 3 columns (R,S,T)\n",
    "    R=[N,a]\n",
    "    S=[1,0]\n",
    "    T=[0,1]\n",
    "    #add rows until remainder = 1 or 0\n",
    "    while R[-1]>1:\n",
    "        S+=[ S[-2] - R[-2]//R[-1]*S[-1] ]\n",
    "        T+=[ T[-2] - R[-2]//R[-1]*T[-1] ]\n",
    "        R+=[ R[-2]%R[-1] ]\n",
    "        print(R,S,T)\n",
    "    return T[-1]\n",
    "    #this fuction created by Josh Schneider'''"
   ]
  },
  {
   "cell_type": "code",
   "execution_count": null,
   "metadata": {},
   "outputs": [],
   "source": [
    "def gf_mul(a,b):\n",
    "    a = bin(a)[2:]\n",
    "    a = a[::-1]\n",
    "    prod =  0\n",
    "    for i in range(len(a)):\n",
    "        if a[i] == '1':\n",
    "            temp = (b<<i)\n",
    "            if(temp>0b11111111):\n",
    "                temp = reduce_quiet(temp)                \n",
    "            print(bin(temp).rjust(20,' '))\n",
    "            prod = prod ^ temp\n",
    "    print(\"-------------------------------------\")\n",
    "    print(bin(prod).rjust(20,' '))\n",
    "    return prod"
   ]
  },
  {
   "cell_type": "code",
   "execution_count": null,
   "metadata": {},
   "outputs": [],
   "source": [
    "def decrypt_block(cipher_block):\n",
    "    a = 0x3F\n",
    "    b = 0xAF\n",
    "    M = reduce((reduce(gf_mul(a,(cipher_block ^ b))  )))\n",
    "    return M"
   ]
  },
  {
   "cell_type": "code",
   "execution_count": null,
   "metadata": {},
   "outputs": [],
   "source": [
    "def encrypt_block(plain_block):\n",
    "    a = 0x19\n",
    "    b = 0xAF\n",
    "    C = reduce((reduce(gf_mul(a,plain_block)) ^ b ))\n",
    "    return C"
   ]
  },
  {
   "cell_type": "code",
   "execution_count": null,
   "metadata": {},
   "outputs": [],
   "source": [
    "def encrypt_text(plain_text):\n",
    "    temp = ''\n",
    "    for block in plain_text:\n",
    "        temp = temp +\" \"+ hex(encrypt_block(block))\n",
    "    print(temp)"
   ]
  },
  {
   "cell_type": "code",
   "execution_count": null,
   "metadata": {},
   "outputs": [],
   "source": [
    "plain_text = (0x4d,0x61,0x74,0x68)\n",
    "encrypt_text(plain_text)"
   ]
  },
  {
   "cell_type": "code",
   "execution_count": null,
   "metadata": {},
   "outputs": [],
   "source": [
    "value = 0b11111101111110\n",
    "value2 = 0b10100110000000\n",
    "value3 = 0b101011010000\n",
    "value4 =0x212\n",
    "print(hex(reduce(value4)))\n",
    "\n",
    "\n"
   ]
  },
  {
   "cell_type": "code",
   "execution_count": null,
   "metadata": {},
   "outputs": [],
   "source": [
    "print(hex(encrypt_block(0x68)))"
   ]
  },
  {
   "cell_type": "code",
   "execution_count": null,
   "metadata": {},
   "outputs": [],
   "source": [
    "test = gf_mul(0x19,0x74)\n",
    "print(hex(test))"
   ]
  },
  {
   "cell_type": "code",
   "execution_count": null,
   "metadata": {},
   "outputs": [],
   "source": []
  },
  {
   "cell_type": "code",
   "execution_count": null,
   "metadata": {},
   "outputs": [],
   "source": []
  },
  {
   "cell_type": "code",
   "execution_count": null,
   "metadata": {},
   "outputs": [],
   "source": []
  }
 ],
 "metadata": {
  "kernelspec": {
   "display_name": "Python 3",
   "language": "python",
   "name": "python3"
  },
  "language_info": {
   "codemirror_mode": {
    "name": "ipython",
    "version": 3
   },
   "file_extension": ".py",
   "mimetype": "text/x-python",
   "name": "python",
   "nbconvert_exporter": "python",
   "pygments_lexer": "ipython3",
   "version": "3.7.4"
  }
 },
 "nbformat": 4,
 "nbformat_minor": 2
}
