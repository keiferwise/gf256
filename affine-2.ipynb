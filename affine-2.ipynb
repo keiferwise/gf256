{
 "cells": [
  {
   "cell_type": "code",
   "execution_count": 1,
   "metadata": {},
   "outputs": [],
   "source": [
    "def reduce_quiet(y):\n",
    "    mx_bin = 0b100011011\n",
    "    max_width = len(bin(y))\n",
    "    while y > 0b11111111:\n",
    "        curr_len = len(bin(y))\n",
    "        temp_mx = bin(mx_bin).ljust(curr_len,'0')\n",
    "        temp_mx = int(temp_mx,2)\n",
    "        y = y ^ temp_mx\n",
    "    return y"
   ]
  },
  {
   "cell_type": "code",
   "execution_count": 2,
   "metadata": {},
   "outputs": [],
   "source": [
    "def reduce(y):\n",
    "    mx_bin = 0b100011011\n",
    "    max_width = len(bin(y))\n",
    "    while y > 0b11111111:\n",
    "        print(bin(y)[2:].rjust(max_width,' '))\n",
    "        curr_len = len(bin(y))\n",
    "        temp_mx = bin(mx_bin).ljust(curr_len,'0')\n",
    "        temp_mx = int(temp_mx,2)\n",
    "        y = y ^ temp_mx\n",
    "        print(bin(temp_mx)[2:].rjust(max_width,' '))\n",
    "        print('-'.rjust(max_width,'-'))\n",
    "    print(bin(y)[2:].rjust(max_width,' '))\n",
    "    return y"
   ]
  },
  {
   "cell_type": "code",
   "execution_count": 72,
   "metadata": {},
   "outputs": [],
   "source": [
    "def gf_div(n,d):\n",
    "    #print(\"----------DIV \"+hex(n)+\" and \"+hex(d)+\"----------\")\n",
    "\n",
    "    max_width = len(bin(n))\n",
    "    min_width = len(bin(d))\n",
    "    temp_n = n\n",
    "    temp_d = d\n",
    "    q = 0\n",
    "    r = 0\n",
    "    #print(bin(temp_n).rjust(max_width,' '))\n",
    "\n",
    "    while len(bin(temp_n)) >= min_width:\n",
    "        curr_len = len(bin(temp_n))\n",
    "        m = (curr_len - min_width)\n",
    "        m = 2**m\n",
    "        q = q ^ m\n",
    "        temp_d = bin(d).ljust(curr_len,'0')\n",
    "    #    print(temp_d.rjust(max_width,' '))\n",
    "        temp_d = int(temp_d,2)\n",
    "        temp_n = temp_n ^ temp_d\n",
    "        r = temp_n\n",
    "    #    print('-'.rjust(max_width,'-'))\n",
    "    #    print(bin(r).rjust(max_width,' '))\n",
    "    #print(\"Q = \"+hex(q)+ \", R = \"+hex(r))    \n",
    "    #print(\"---------------END--------------------\")\n",
    "    return [q,r]"
   ]
  },
  {
   "cell_type": "code",
   "execution_count": 73,
   "metadata": {},
   "outputs": [],
   "source": [
    "def gf_mul(a,b):\n",
    "    #print(\"----------MUL \"+hex(a)+\" and \"+hex(b)+\"----------\")\n",
    "    a = bin(a)[2:]\n",
    "    a = a[::-1]\n",
    "    prod =  0\n",
    "    max_width = len(bin(b))\n",
    "    for i in range(len(a)):\n",
    "        if a[i] == '1':\n",
    "            temp = (b<<i)\n",
    "            if(temp>0b11111111):\n",
    "                temp = reduce_quiet(temp)                \n",
    "    #        print(bin(temp).rjust(max_width,' '))\n",
    "            prod = prod ^ temp\n",
    "    #print(\"-\".rjust(max_width,'-'))\n",
    "    #print(bin(prod).rjust(max_width,' '))\n",
    "    #print(\"---------------END--------------------\")\n",
    "    #print(\"--------------------------------------\")\n",
    "    return prod"
   ]
  },
  {
   "cell_type": "code",
   "execution_count": 74,
   "metadata": {},
   "outputs": [],
   "source": [
    "def gf_eea(N,a):\n",
    "\n",
    "    R=[N,a,0,0,0,0,0,0,0,0,0,0,0,0,0]\n",
    "    S=[1,0,0,0,0,0,0,0,0,0,0,0,0,0,0]\n",
    "    T=[0,1,0,0,0,0,0,0,0,0,0,0,0,0,0]\n",
    "    Q=[0,0,0,0,0,0,0,0,0,0,0,0,0,0,0]\n",
    "    count = 2\n",
    "    while R[count-1] > 1:\n",
    "        #print(\"determining r and q: \"+hex(R[count-2])+\" / \"+ hex(R[count-1]))\n",
    "        temp = gf_div(R[count-2],R[count-1])\n",
    "        q_temp = temp[0]\n",
    "        r_temp = temp[1]\n",
    "        R[count] = r_temp\n",
    "        Q[count] = q_temp\n",
    "        S_temp = (S[count-2] ^ gf_mul(S[count-1],q_temp))\n",
    "        T_temp=(T[count-2] ^ gf_mul(T[count-1],q_temp))\n",
    "        T[count] = T_temp\n",
    "        S[count] = S_temp\n",
    "        count=count+1\n",
    "    print (\"Find inverse of \"+hex(a) + \" Using EEA\")\n",
    "    print ('  #' +\" | \"+ \"  Q   \"+\" | \"+\"  R   \"+\" | \"+\"  S   \"+\" | \"+\"   T \")\n",
    "    print(\"------------------------------------------\")\n",
    "    for x in range(count):\n",
    "            print(str(x).rjust(3,' ') +\" | \"+ hex(Q[x]).ljust(6,' ')+\" | \"+hex(R[x]).rjust(6,' ')+\" | \"+hex(S[x]).rjust(6,' ')+\" | \"+hex(T[x]).rjust(6,' '))\n",
    "    \n",
    "    return T[count-1]"
   ]
  },
  {
   "cell_type": "code",
   "execution_count": 75,
   "metadata": {},
   "outputs": [],
   "source": [
    "def decrypt_block(cipher_block):\n",
    "    a = 0x3F\n",
    "    b = 0xAF\n",
    "    M = (reduce(gf_mul(a,(cipher_block ^ b) )  ))\n",
    "    return M"
   ]
  },
  {
   "cell_type": "code",
   "execution_count": 76,
   "metadata": {},
   "outputs": [],
   "source": [
    "def encrypt_block(plain_block):\n",
    "    a = 0x19\n",
    "    b = 0xAF\n",
    "    C = reduce((reduce(gf_mul(a,plain_block)) ^ b ))\n",
    "    return C"
   ]
  },
  {
   "cell_type": "code",
   "execution_count": 77,
   "metadata": {},
   "outputs": [],
   "source": [
    "def encrypt_text(plain_text):\n",
    "    temp = ''\n",
    "    for block in plain_text:\n",
    "        temp = temp +\" \"+ hex(encrypt_block(block))\n",
    "    print(temp)"
   ]
  },
  {
   "cell_type": "code",
   "execution_count": 78,
   "metadata": {},
   "outputs": [],
   "source": [
    "def decrypt_text(cipher_text):\n",
    "    temp = ''\n",
    "    for block in cipher_text:\n",
    "        temp = temp +\" \"+ hex(decrypt_block(block))\n",
    "    print(temp)"
   ]
  },
  {
   "cell_type": "code",
   "execution_count": 79,
   "metadata": {},
   "outputs": [
    {
     "name": "stdout",
     "output_type": "stream",
     "text": [
      "  10101111\n",
      "  0\n",
      "  1110\n",
      "  10100001\n",
      "  11111000\n",
      "  1010111\n",
      "  11011111\n",
      "  1110000\n",
      " 0x0 0xa1 0x57 0x70\n"
     ]
    }
   ],
   "source": [
    "plain_text = (0x4d,0x61,0x74,0x68)\n",
    "encrypt_text(plain_text)"
   ]
  },
  {
   "cell_type": "code",
   "execution_count": 80,
   "metadata": {},
   "outputs": [
    {
     "name": "stdout",
     "output_type": "stream",
     "text": [
      "Find inverse of 0x19 Using EEA\n",
      "  # |   Q    |   R    |   S    |    T \n",
      "------------------------------------------\n",
      "  0 | 0x0    |  0x11b |    0x1 |    0x0\n",
      "  1 | 0x0    |   0x19 |    0x0 |    0x1\n",
      "  2 | 0x1f   |    0xc |    0x1 |   0x1f\n",
      "  3 | 0x2    |    0x1 |    0x2 |   0x3f\n"
     ]
    },
    {
     "data": {
      "text/plain": [
       "'0x3f'"
      ]
     },
     "execution_count": 80,
     "metadata": {},
     "output_type": "execute_result"
    }
   ],
   "source": [
    "\n",
    "hex(gf_eea(0x11b,0x19))"
   ]
  },
  {
   "cell_type": "code",
   "execution_count": 87,
   "metadata": {},
   "outputs": [
    {
     "name": "stdout",
     "output_type": "stream",
     "text": [
      "  1001101\n",
      "  1100001\n",
      "  1110100\n",
      "  1101000\n",
      " 0x4d 0x61 0x74 0x68\n"
     ]
    }
   ],
   "source": [
    "#Question 1.c\n",
    "cipher_text = (0x0,0xa1,0x57,0x70)\n",
    "decrypt_text(cipher_text)"
   ]
  },
  {
   "cell_type": "code",
   "execution_count": null,
   "metadata": {},
   "outputs": [],
   "source": []
  }
 ],
 "metadata": {
  "kernelspec": {
   "display_name": "Python 3",
   "language": "python",
   "name": "python3"
  },
  "language_info": {
   "codemirror_mode": {
    "name": "ipython",
    "version": 3
   },
   "file_extension": ".py",
   "mimetype": "text/x-python",
   "name": "python",
   "nbconvert_exporter": "python",
   "pygments_lexer": "ipython3",
   "version": "3.7.4"
  }
 },
 "nbformat": 4,
 "nbformat_minor": 2
}
